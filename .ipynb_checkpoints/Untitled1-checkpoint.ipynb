{
 "cells": [
  {
   "cell_type": "code",
   "execution_count": 6,
   "metadata": {},
   "outputs": [
    {
     "name": "stderr",
     "output_type": "stream",
     "text": [
      "2021-11-17 03:31:10.370 WARNING root: Requests made without an app_token will be subject to strict throttling limits.\n"
     ]
    },
    {
     "data": {
      "application/vnd.plotly.v1+json": {
       "config": {
        "plotlyServerURL": "https://plot.ly"
       },
       "data": [
        {
         "link": {
          "color": [
           "rgba(92,20,85,1)"
          ],
          "label": [
           "YOOOOO"
          ],
          "source": [
           "Subdirecció General Operativa"
          ],
          "target": [
           "Accident i/o incendi en vaixell (en port o alta mar)"
          ],
          "value": [
           "1000"
          ]
         },
         "node": {
          "color": [
           "rgba(251,10,105,1)",
           "rgba(215,211,214,1)",
           "rgba(157,86,32,1)",
           "rgba(152,18,151,1)",
           "rgba(219,223,62,1)",
           "rgba(44,89,137,1)",
           "rgba(219,111,62,1)",
           "rgba(139,138,189,1)",
           "rgba(89,253,68,1)",
           "rgba(15,55,130,1)",
           "rgba(120,31,202,1)",
           "rgba(25,49,66,1)",
           "rgba(12,25,38,1)",
           "rgba(102,46,88,1)",
           "rgba(217,180,50,1)",
           "rgba(132,224,160,1)",
           "rgba(174,22,196,1)",
           "rgba(190,34,251,1)",
           "rgba(125,1,41,1)",
           "rgba(240,7,45,1)",
           "rgba(37,9,235,1)",
           "rgba(117,192,35,1)",
           "rgba(227,85,238,1)",
           "rgba(191,86,175,1)",
           "rgba(212,155,171,1)",
           "rgba(89,23,54,1)",
           "rgba(175,102,34,1)",
           "rgba(86,38,1,1)",
           "rgba(193,91,4,1)",
           "rgba(7,253,188,1)",
           "rgba(135,243,21,1)",
           "rgba(161,146,249,1)",
           "rgba(91,184,84,1)",
           "rgba(50,127,48,1)",
           "rgba(140,223,211,1)",
           "rgba(50,218,12,1)",
           "rgba(4,144,154,1)",
           "rgba(69,238,13,1)",
           "rgba(24,175,191,1)",
           "rgba(147,176,248,1)",
           "rgba(166,231,246,1)",
           "rgba(142,14,75,1)",
           "rgba(23,9,90,1)",
           "rgba(129,166,253,1)",
           "rgba(74,28,233,1)",
           "rgba(223,145,212,1)",
           "rgba(18,104,249,1)",
           "rgba(78,117,218,1)",
           "rgba(178,172,131,1)",
           "rgba(69,67,126,1)",
           "rgba(44,79,160,1)",
           "rgba(136,155,192,1)",
           "rgba(176,23,122,1)",
           "rgba(188,107,128,1)",
           "rgba(168,119,188,1)",
           "rgba(57,117,77,1)",
           "rgba(81,53,172,1)",
           "rgba(245,179,248,1)",
           "rgba(103,232,40,1)",
           "rgba(118,148,64,1)",
           "rgba(183,124,81,1)",
           "rgba(102,226,216,1)",
           "rgba(242,152,115,1)",
           "rgba(185,215,120,1)",
           "rgba(233,78,9,1)",
           "rgba(142,130,18,1)",
           "rgba(107,201,244,1)",
           "rgba(3,156,186,1)",
           "rgba(223,170,254,1)",
           "rgba(110,187,146,1)",
           "rgba(100,145,141,1)",
           "rgba(35,187,14,1)",
           "rgba(57,151,233,1)",
           "rgba(249,3,159,1)",
           "rgba(212,54,234,1)",
           "rgba(211,8,169,1)",
           "rgba(148,225,95,1)",
           "rgba(71,180,36,1)",
           "rgba(136,163,246,1)",
           "rgba(64,227,40,1)",
           "rgba(109,169,83,1)",
           "rgba(149,150,33,1)",
           "rgba(231,2,214,1)",
           "rgba(114,216,211,1)",
           "rgba(195,80,74,1)"
          ],
          "label": [
           "Subdirecció General Operativa",
           "Terres de l'Ebre",
           "Tarragona",
           "Metropolitana Sud",
           "Metropolitana Nord",
           "Girona",
           "Lleida",
           "U.F. Val d'Aran",
           "Centre",
           "pràctiques",
           "incendi urbà",
           "activitat no urgent",
           "salvaments",
           "mobilitat",
           "assistència tècnica",
           "dispositiu preventiu",
           "fuites perilloses",
           "suport tècnic",
           "incendi vegetació",
           "simulacres",
           "Pràctiques muntanya (escalada roca i gel, esquí, allaus)",
           "Incendi d'infraestructura elèctrica",
           "Ruta forestal i coneixement del territori",
           "Incendi de contenidor de residus",
           "Rescat urbà (precipitats, obertura de pisos risc persones)",
           "Salvament animals (excepte abelles)",
           "Vehicle a l'aire lliure (no accident)",
           "Incendi en edifici",
           "Neteja de calçada, sense accident de trànsit",
           "Rescat de muntanya",
           "Rescat persones en ascensor",
           "Accident trànsit amb ferits i/o atrapats",
           "Accident trànsit, sense atrapats ni incendi",
           "Varis (barraca, caseta d'obres,...)",
           "Inspecció d'hidrants",
           "Pràctiques d'assistència tècnica",
           "Altra assistència tècnica urgent",
           "Patologies edificació",
           "Accident i/o incendi ferroviari",
           "Recerca persones perdudes",
           "Atenció sanitària primària",
           "Pràctiques conducció",
           "Dispositiu activitats culturals, fires, correfocs, esportives",
           "Inundació d'aigua",
           "Pràctiques risc químic",
           "Abelles",
           "Dispositiu preventiu altres activitats",
           "Olor exterior",
           "Pràctiques forestals",
           "Altres suports tècnics",
           "Omplir i manteniment de basses i dipòsits",
           "Industrial o magatzem",
           "Incendi vegetació agrícola",
           "Incendi vegetació urbana",
           "Incendi vegetació forestal",
           "Persones amb comportament alterat",
           "Ruta urbana i coneixement del territori",
           "Crema controlada",
           "Estassades, aclarides,... en vegetació forestal",
           "Olor interior",
           "Pràctiques de mitjans aeris",
           "Visita element de risc",
           "Dispositiu risc d'incendi forestal",
           "Dispositiu risc muntanya",
           "Recerca i/o rescat en medi fluvial (rius, barrancs, llacs)",
           "Pràctiques d'incendi urbà",
           "Pràctiques submarinisme",
           "Fuita substància tòxica i/o reactiva",
           "Pràctiques orientació i cartografia",
           "Salvament de béns",
           "Risc biològic",
           "Pràctiques d'accident de trànsit (excarceració)",
           "Accident trànsit en túnel amb incendi o sense",
           "Rescat en coves i pous",
           "Fuita gas interior",
           "Simulacre incendi vegetació",
           "Fuita gas exterior",
           "Salvament en edifici esfondrat",
           "Inventari informació cartografia",
           "Accident i/o incendi aeronau (avió, parapent, ultralleuger,...)",
           "Recerca i/o rescat en medi marítim",
           "Accident i/o incendi en vaixell (en port o alta mar)",
           "Incendi en edifici aparcament (soterrat o no)",
           "Mitjans aeris, Servei Català Trànsit",
           "Revisió d'equipaments de seguretat"
          ],
          "line": {
           "color": "black",
           "width": 0.5
          },
          "pad": 15,
          "thickness": 15
         },
         "type": "sankey",
         "valueformat": ".0f",
         "valuesuffix": "TWh"
        }
       ],
       "layout": {
        "font": {
         "size": 10
        },
        "template": {
         "data": {
          "bar": [
           {
            "error_x": {
             "color": "#2a3f5f"
            },
            "error_y": {
             "color": "#2a3f5f"
            },
            "marker": {
             "line": {
              "color": "#E5ECF6",
              "width": 0.5
             },
             "pattern": {
              "fillmode": "overlay",
              "size": 10,
              "solidity": 0.2
             }
            },
            "type": "bar"
           }
          ],
          "barpolar": [
           {
            "marker": {
             "line": {
              "color": "#E5ECF6",
              "width": 0.5
             },
             "pattern": {
              "fillmode": "overlay",
              "size": 10,
              "solidity": 0.2
             }
            },
            "type": "barpolar"
           }
          ],
          "carpet": [
           {
            "aaxis": {
             "endlinecolor": "#2a3f5f",
             "gridcolor": "white",
             "linecolor": "white",
             "minorgridcolor": "white",
             "startlinecolor": "#2a3f5f"
            },
            "baxis": {
             "endlinecolor": "#2a3f5f",
             "gridcolor": "white",
             "linecolor": "white",
             "minorgridcolor": "white",
             "startlinecolor": "#2a3f5f"
            },
            "type": "carpet"
           }
          ],
          "choropleth": [
           {
            "colorbar": {
             "outlinewidth": 0,
             "ticks": ""
            },
            "type": "choropleth"
           }
          ],
          "contour": [
           {
            "colorbar": {
             "outlinewidth": 0,
             "ticks": ""
            },
            "colorscale": [
             [
              0,
              "#0d0887"
             ],
             [
              0.1111111111111111,
              "#46039f"
             ],
             [
              0.2222222222222222,
              "#7201a8"
             ],
             [
              0.3333333333333333,
              "#9c179e"
             ],
             [
              0.4444444444444444,
              "#bd3786"
             ],
             [
              0.5555555555555556,
              "#d8576b"
             ],
             [
              0.6666666666666666,
              "#ed7953"
             ],
             [
              0.7777777777777778,
              "#fb9f3a"
             ],
             [
              0.8888888888888888,
              "#fdca26"
             ],
             [
              1,
              "#f0f921"
             ]
            ],
            "type": "contour"
           }
          ],
          "contourcarpet": [
           {
            "colorbar": {
             "outlinewidth": 0,
             "ticks": ""
            },
            "type": "contourcarpet"
           }
          ],
          "heatmap": [
           {
            "colorbar": {
             "outlinewidth": 0,
             "ticks": ""
            },
            "colorscale": [
             [
              0,
              "#0d0887"
             ],
             [
              0.1111111111111111,
              "#46039f"
             ],
             [
              0.2222222222222222,
              "#7201a8"
             ],
             [
              0.3333333333333333,
              "#9c179e"
             ],
             [
              0.4444444444444444,
              "#bd3786"
             ],
             [
              0.5555555555555556,
              "#d8576b"
             ],
             [
              0.6666666666666666,
              "#ed7953"
             ],
             [
              0.7777777777777778,
              "#fb9f3a"
             ],
             [
              0.8888888888888888,
              "#fdca26"
             ],
             [
              1,
              "#f0f921"
             ]
            ],
            "type": "heatmap"
           }
          ],
          "heatmapgl": [
           {
            "colorbar": {
             "outlinewidth": 0,
             "ticks": ""
            },
            "colorscale": [
             [
              0,
              "#0d0887"
             ],
             [
              0.1111111111111111,
              "#46039f"
             ],
             [
              0.2222222222222222,
              "#7201a8"
             ],
             [
              0.3333333333333333,
              "#9c179e"
             ],
             [
              0.4444444444444444,
              "#bd3786"
             ],
             [
              0.5555555555555556,
              "#d8576b"
             ],
             [
              0.6666666666666666,
              "#ed7953"
             ],
             [
              0.7777777777777778,
              "#fb9f3a"
             ],
             [
              0.8888888888888888,
              "#fdca26"
             ],
             [
              1,
              "#f0f921"
             ]
            ],
            "type": "heatmapgl"
           }
          ],
          "histogram": [
           {
            "marker": {
             "pattern": {
              "fillmode": "overlay",
              "size": 10,
              "solidity": 0.2
             }
            },
            "type": "histogram"
           }
          ],
          "histogram2d": [
           {
            "colorbar": {
             "outlinewidth": 0,
             "ticks": ""
            },
            "colorscale": [
             [
              0,
              "#0d0887"
             ],
             [
              0.1111111111111111,
              "#46039f"
             ],
             [
              0.2222222222222222,
              "#7201a8"
             ],
             [
              0.3333333333333333,
              "#9c179e"
             ],
             [
              0.4444444444444444,
              "#bd3786"
             ],
             [
              0.5555555555555556,
              "#d8576b"
             ],
             [
              0.6666666666666666,
              "#ed7953"
             ],
             [
              0.7777777777777778,
              "#fb9f3a"
             ],
             [
              0.8888888888888888,
              "#fdca26"
             ],
             [
              1,
              "#f0f921"
             ]
            ],
            "type": "histogram2d"
           }
          ],
          "histogram2dcontour": [
           {
            "colorbar": {
             "outlinewidth": 0,
             "ticks": ""
            },
            "colorscale": [
             [
              0,
              "#0d0887"
             ],
             [
              0.1111111111111111,
              "#46039f"
             ],
             [
              0.2222222222222222,
              "#7201a8"
             ],
             [
              0.3333333333333333,
              "#9c179e"
             ],
             [
              0.4444444444444444,
              "#bd3786"
             ],
             [
              0.5555555555555556,
              "#d8576b"
             ],
             [
              0.6666666666666666,
              "#ed7953"
             ],
             [
              0.7777777777777778,
              "#fb9f3a"
             ],
             [
              0.8888888888888888,
              "#fdca26"
             ],
             [
              1,
              "#f0f921"
             ]
            ],
            "type": "histogram2dcontour"
           }
          ],
          "mesh3d": [
           {
            "colorbar": {
             "outlinewidth": 0,
             "ticks": ""
            },
            "type": "mesh3d"
           }
          ],
          "parcoords": [
           {
            "line": {
             "colorbar": {
              "outlinewidth": 0,
              "ticks": ""
             }
            },
            "type": "parcoords"
           }
          ],
          "pie": [
           {
            "automargin": true,
            "type": "pie"
           }
          ],
          "scatter": [
           {
            "marker": {
             "colorbar": {
              "outlinewidth": 0,
              "ticks": ""
             }
            },
            "type": "scatter"
           }
          ],
          "scatter3d": [
           {
            "line": {
             "colorbar": {
              "outlinewidth": 0,
              "ticks": ""
             }
            },
            "marker": {
             "colorbar": {
              "outlinewidth": 0,
              "ticks": ""
             }
            },
            "type": "scatter3d"
           }
          ],
          "scattercarpet": [
           {
            "marker": {
             "colorbar": {
              "outlinewidth": 0,
              "ticks": ""
             }
            },
            "type": "scattercarpet"
           }
          ],
          "scattergeo": [
           {
            "marker": {
             "colorbar": {
              "outlinewidth": 0,
              "ticks": ""
             }
            },
            "type": "scattergeo"
           }
          ],
          "scattergl": [
           {
            "marker": {
             "colorbar": {
              "outlinewidth": 0,
              "ticks": ""
             }
            },
            "type": "scattergl"
           }
          ],
          "scattermapbox": [
           {
            "marker": {
             "colorbar": {
              "outlinewidth": 0,
              "ticks": ""
             }
            },
            "type": "scattermapbox"
           }
          ],
          "scatterpolar": [
           {
            "marker": {
             "colorbar": {
              "outlinewidth": 0,
              "ticks": ""
             }
            },
            "type": "scatterpolar"
           }
          ],
          "scatterpolargl": [
           {
            "marker": {
             "colorbar": {
              "outlinewidth": 0,
              "ticks": ""
             }
            },
            "type": "scatterpolargl"
           }
          ],
          "scatterternary": [
           {
            "marker": {
             "colorbar": {
              "outlinewidth": 0,
              "ticks": ""
             }
            },
            "type": "scatterternary"
           }
          ],
          "surface": [
           {
            "colorbar": {
             "outlinewidth": 0,
             "ticks": ""
            },
            "colorscale": [
             [
              0,
              "#0d0887"
             ],
             [
              0.1111111111111111,
              "#46039f"
             ],
             [
              0.2222222222222222,
              "#7201a8"
             ],
             [
              0.3333333333333333,
              "#9c179e"
             ],
             [
              0.4444444444444444,
              "#bd3786"
             ],
             [
              0.5555555555555556,
              "#d8576b"
             ],
             [
              0.6666666666666666,
              "#ed7953"
             ],
             [
              0.7777777777777778,
              "#fb9f3a"
             ],
             [
              0.8888888888888888,
              "#fdca26"
             ],
             [
              1,
              "#f0f921"
             ]
            ],
            "type": "surface"
           }
          ],
          "table": [
           {
            "cells": {
             "fill": {
              "color": "#EBF0F8"
             },
             "line": {
              "color": "white"
             }
            },
            "header": {
             "fill": {
              "color": "#C8D4E3"
             },
             "line": {
              "color": "white"
             }
            },
            "type": "table"
           }
          ]
         },
         "layout": {
          "annotationdefaults": {
           "arrowcolor": "#2a3f5f",
           "arrowhead": 0,
           "arrowwidth": 1
          },
          "autotypenumbers": "strict",
          "coloraxis": {
           "colorbar": {
            "outlinewidth": 0,
            "ticks": ""
           }
          },
          "colorscale": {
           "diverging": [
            [
             0,
             "#8e0152"
            ],
            [
             0.1,
             "#c51b7d"
            ],
            [
             0.2,
             "#de77ae"
            ],
            [
             0.3,
             "#f1b6da"
            ],
            [
             0.4,
             "#fde0ef"
            ],
            [
             0.5,
             "#f7f7f7"
            ],
            [
             0.6,
             "#e6f5d0"
            ],
            [
             0.7,
             "#b8e186"
            ],
            [
             0.8,
             "#7fbc41"
            ],
            [
             0.9,
             "#4d9221"
            ],
            [
             1,
             "#276419"
            ]
           ],
           "sequential": [
            [
             0,
             "#0d0887"
            ],
            [
             0.1111111111111111,
             "#46039f"
            ],
            [
             0.2222222222222222,
             "#7201a8"
            ],
            [
             0.3333333333333333,
             "#9c179e"
            ],
            [
             0.4444444444444444,
             "#bd3786"
            ],
            [
             0.5555555555555556,
             "#d8576b"
            ],
            [
             0.6666666666666666,
             "#ed7953"
            ],
            [
             0.7777777777777778,
             "#fb9f3a"
            ],
            [
             0.8888888888888888,
             "#fdca26"
            ],
            [
             1,
             "#f0f921"
            ]
           ],
           "sequentialminus": [
            [
             0,
             "#0d0887"
            ],
            [
             0.1111111111111111,
             "#46039f"
            ],
            [
             0.2222222222222222,
             "#7201a8"
            ],
            [
             0.3333333333333333,
             "#9c179e"
            ],
            [
             0.4444444444444444,
             "#bd3786"
            ],
            [
             0.5555555555555556,
             "#d8576b"
            ],
            [
             0.6666666666666666,
             "#ed7953"
            ],
            [
             0.7777777777777778,
             "#fb9f3a"
            ],
            [
             0.8888888888888888,
             "#fdca26"
            ],
            [
             1,
             "#f0f921"
            ]
           ]
          },
          "colorway": [
           "#636efa",
           "#EF553B",
           "#00cc96",
           "#ab63fa",
           "#FFA15A",
           "#19d3f3",
           "#FF6692",
           "#B6E880",
           "#FF97FF",
           "#FECB52"
          ],
          "font": {
           "color": "#2a3f5f"
          },
          "geo": {
           "bgcolor": "white",
           "lakecolor": "white",
           "landcolor": "#E5ECF6",
           "showlakes": true,
           "showland": true,
           "subunitcolor": "white"
          },
          "hoverlabel": {
           "align": "left"
          },
          "hovermode": "closest",
          "mapbox": {
           "style": "light"
          },
          "paper_bgcolor": "white",
          "plot_bgcolor": "#E5ECF6",
          "polar": {
           "angularaxis": {
            "gridcolor": "white",
            "linecolor": "white",
            "ticks": ""
           },
           "bgcolor": "#E5ECF6",
           "radialaxis": {
            "gridcolor": "white",
            "linecolor": "white",
            "ticks": ""
           }
          },
          "scene": {
           "xaxis": {
            "backgroundcolor": "#E5ECF6",
            "gridcolor": "white",
            "gridwidth": 2,
            "linecolor": "white",
            "showbackground": true,
            "ticks": "",
            "zerolinecolor": "white"
           },
           "yaxis": {
            "backgroundcolor": "#E5ECF6",
            "gridcolor": "white",
            "gridwidth": 2,
            "linecolor": "white",
            "showbackground": true,
            "ticks": "",
            "zerolinecolor": "white"
           },
           "zaxis": {
            "backgroundcolor": "#E5ECF6",
            "gridcolor": "white",
            "gridwidth": 2,
            "linecolor": "white",
            "showbackground": true,
            "ticks": "",
            "zerolinecolor": "white"
           }
          },
          "shapedefaults": {
           "line": {
            "color": "#2a3f5f"
           }
          },
          "ternary": {
           "aaxis": {
            "gridcolor": "white",
            "linecolor": "white",
            "ticks": ""
           },
           "baxis": {
            "gridcolor": "white",
            "linecolor": "white",
            "ticks": ""
           },
           "bgcolor": "#E5ECF6",
           "caxis": {
            "gridcolor": "white",
            "linecolor": "white",
            "ticks": ""
           }
          },
          "title": {
           "x": 0.05
          },
          "xaxis": {
           "automargin": true,
           "gridcolor": "white",
           "linecolor": "white",
           "ticks": "",
           "title": {
            "standoff": 15
           },
           "zerolinecolor": "white",
           "zerolinewidth": 2
          },
          "yaxis": {
           "automargin": true,
           "gridcolor": "white",
           "linecolor": "white",
           "ticks": "",
           "title": {
            "standoff": 15
           },
           "zerolinecolor": "white",
           "zerolinewidth": 2
          }
         }
        },
        "title": {
         "text": "Energy forecast for 2050<br>Source: Department of Energy & Climate Change, Tom Counsell via <a href='https://bost.ocks.org/mike/sankey/'>Mike Bostock</a>"
        }
       }
      },
      "text/html": [
       "<div>                            <div id=\"03bbb9cd-69ec-4e95-b736-502e24058bb4\" class=\"plotly-graph-div\" style=\"height:525px; width:100%;\"></div>            <script type=\"text/javascript\">                require([\"plotly\"], function(Plotly) {                    window.PLOTLYENV=window.PLOTLYENV || {};                                    if (document.getElementById(\"03bbb9cd-69ec-4e95-b736-502e24058bb4\")) {                    Plotly.newPlot(                        \"03bbb9cd-69ec-4e95-b736-502e24058bb4\",                        [{\"link\":{\"color\":[\"rgba(92,20,85,1)\"],\"label\":[\"YOOOOO\"],\"source\":[\"Subdirecci\\u00f3 General Operativa\"],\"target\":[\"Accident i/o incendi en vaixell (en port o alta mar)\"],\"value\":[\"1000\"]},\"node\":{\"color\":[\"rgba(251,10,105,1)\",\"rgba(215,211,214,1)\",\"rgba(157,86,32,1)\",\"rgba(152,18,151,1)\",\"rgba(219,223,62,1)\",\"rgba(44,89,137,1)\",\"rgba(219,111,62,1)\",\"rgba(139,138,189,1)\",\"rgba(89,253,68,1)\",\"rgba(15,55,130,1)\",\"rgba(120,31,202,1)\",\"rgba(25,49,66,1)\",\"rgba(12,25,38,1)\",\"rgba(102,46,88,1)\",\"rgba(217,180,50,1)\",\"rgba(132,224,160,1)\",\"rgba(174,22,196,1)\",\"rgba(190,34,251,1)\",\"rgba(125,1,41,1)\",\"rgba(240,7,45,1)\",\"rgba(37,9,235,1)\",\"rgba(117,192,35,1)\",\"rgba(227,85,238,1)\",\"rgba(191,86,175,1)\",\"rgba(212,155,171,1)\",\"rgba(89,23,54,1)\",\"rgba(175,102,34,1)\",\"rgba(86,38,1,1)\",\"rgba(193,91,4,1)\",\"rgba(7,253,188,1)\",\"rgba(135,243,21,1)\",\"rgba(161,146,249,1)\",\"rgba(91,184,84,1)\",\"rgba(50,127,48,1)\",\"rgba(140,223,211,1)\",\"rgba(50,218,12,1)\",\"rgba(4,144,154,1)\",\"rgba(69,238,13,1)\",\"rgba(24,175,191,1)\",\"rgba(147,176,248,1)\",\"rgba(166,231,246,1)\",\"rgba(142,14,75,1)\",\"rgba(23,9,90,1)\",\"rgba(129,166,253,1)\",\"rgba(74,28,233,1)\",\"rgba(223,145,212,1)\",\"rgba(18,104,249,1)\",\"rgba(78,117,218,1)\",\"rgba(178,172,131,1)\",\"rgba(69,67,126,1)\",\"rgba(44,79,160,1)\",\"rgba(136,155,192,1)\",\"rgba(176,23,122,1)\",\"rgba(188,107,128,1)\",\"rgba(168,119,188,1)\",\"rgba(57,117,77,1)\",\"rgba(81,53,172,1)\",\"rgba(245,179,248,1)\",\"rgba(103,232,40,1)\",\"rgba(118,148,64,1)\",\"rgba(183,124,81,1)\",\"rgba(102,226,216,1)\",\"rgba(242,152,115,1)\",\"rgba(185,215,120,1)\",\"rgba(233,78,9,1)\",\"rgba(142,130,18,1)\",\"rgba(107,201,244,1)\",\"rgba(3,156,186,1)\",\"rgba(223,170,254,1)\",\"rgba(110,187,146,1)\",\"rgba(100,145,141,1)\",\"rgba(35,187,14,1)\",\"rgba(57,151,233,1)\",\"rgba(249,3,159,1)\",\"rgba(212,54,234,1)\",\"rgba(211,8,169,1)\",\"rgba(148,225,95,1)\",\"rgba(71,180,36,1)\",\"rgba(136,163,246,1)\",\"rgba(64,227,40,1)\",\"rgba(109,169,83,1)\",\"rgba(149,150,33,1)\",\"rgba(231,2,214,1)\",\"rgba(114,216,211,1)\",\"rgba(195,80,74,1)\"],\"label\":[\"Subdirecci\\u00f3 General Operativa\",\"Terres de l'Ebre\",\"Tarragona\",\"Metropolitana Sud\",\"Metropolitana Nord\",\"Girona\",\"Lleida\",\"U.F. Val d'Aran\",\"Centre\",\"pr\\u00e0ctiques\",\"incendi urb\\u00e0\",\"activitat no urgent\",\"salvaments\",\"mobilitat\",\"assist\\u00e8ncia t\\u00e8cnica\",\"dispositiu preventiu\",\"fuites perilloses\",\"suport t\\u00e8cnic\",\"incendi vegetaci\\u00f3\",\"simulacres\",\"Pr\\u00e0ctiques muntanya (escalada roca i gel, esqu\\u00ed, allaus)\",\"Incendi d'infraestructura el\\u00e8ctrica\",\"Ruta forestal i coneixement del territori\",\"Incendi de contenidor de residus\",\"Rescat urb\\u00e0 (precipitats, obertura de pisos risc persones)\",\"Salvament animals (excepte abelles)\",\"Vehicle a l'aire lliure (no accident)\",\"Incendi en edifici\",\"Neteja de cal\\u00e7ada, sense accident de tr\\u00e0nsit\",\"Rescat de muntanya\",\"Rescat persones en ascensor\",\"Accident tr\\u00e0nsit amb ferits i/o atrapats\",\"Accident tr\\u00e0nsit, sense atrapats ni incendi\",\"Varis (barraca, caseta d'obres,...)\",\"Inspecci\\u00f3 d'hidrants\",\"Pr\\u00e0ctiques d'assist\\u00e8ncia t\\u00e8cnica\",\"Altra assist\\u00e8ncia t\\u00e8cnica urgent\",\"Patologies edificaci\\u00f3\",\"Accident i/o incendi ferroviari\",\"Recerca persones perdudes\",\"Atenci\\u00f3 sanit\\u00e0ria prim\\u00e0ria\",\"Pr\\u00e0ctiques conducci\\u00f3\",\"Dispositiu activitats culturals, fires, correfocs, esportives\",\"Inundaci\\u00f3 d'aigua\",\"Pr\\u00e0ctiques risc qu\\u00edmic\",\"Abelles\",\"Dispositiu preventiu altres activitats\",\"Olor exterior\",\"Pr\\u00e0ctiques forestals\",\"Altres suports t\\u00e8cnics\",\"Omplir i manteniment de basses i dip\\u00f2sits\",\"Industrial o magatzem\",\"Incendi vegetaci\\u00f3 agr\\u00edcola\",\"Incendi vegetaci\\u00f3 urbana\",\"Incendi vegetaci\\u00f3 forestal\",\"Persones amb comportament alterat\",\"Ruta urbana i coneixement del territori\",\"Crema controlada\",\"Estassades, aclarides,... en vegetaci\\u00f3 forestal\",\"Olor interior\",\"Pr\\u00e0ctiques de mitjans aeris\",\"Visita element de risc\",\"Dispositiu risc d'incendi forestal\",\"Dispositiu risc muntanya\",\"Recerca i/o rescat en medi fluvial (rius, barrancs, llacs)\",\"Pr\\u00e0ctiques d'incendi urb\\u00e0\",\"Pr\\u00e0ctiques submarinisme\",\"Fuita subst\\u00e0ncia t\\u00f2xica i/o reactiva\",\"Pr\\u00e0ctiques orientaci\\u00f3 i cartografia\",\"Salvament de b\\u00e9ns\",\"Risc biol\\u00f2gic\",\"Pr\\u00e0ctiques d'accident de tr\\u00e0nsit (excarceraci\\u00f3)\",\"Accident tr\\u00e0nsit en t\\u00fanel amb incendi o sense\",\"Rescat en coves i pous\",\"Fuita gas interior\",\"Simulacre incendi vegetaci\\u00f3\",\"Fuita gas exterior\",\"Salvament en edifici esfondrat\",\"Inventari informaci\\u00f3 cartografia\",\"Accident i/o incendi aeronau (avi\\u00f3, parapent, ultralleuger,...)\",\"Recerca i/o rescat en medi mar\\u00edtim\",\"Accident i/o incendi en vaixell (en port o alta mar)\",\"Incendi en edifici aparcament (soterrat o no)\",\"Mitjans aeris, Servei Catal\\u00e0 Tr\\u00e0nsit\",\"Revisi\\u00f3 d'equipaments de seguretat\"],\"line\":{\"color\":\"black\",\"width\":0.5},\"pad\":15,\"thickness\":15},\"valueformat\":\".0f\",\"valuesuffix\":\"TWh\",\"type\":\"sankey\"}],                        {\"template\":{\"data\":{\"bar\":[{\"error_x\":{\"color\":\"#2a3f5f\"},\"error_y\":{\"color\":\"#2a3f5f\"},\"marker\":{\"line\":{\"color\":\"#E5ECF6\",\"width\":0.5},\"pattern\":{\"fillmode\":\"overlay\",\"size\":10,\"solidity\":0.2}},\"type\":\"bar\"}],\"barpolar\":[{\"marker\":{\"line\":{\"color\":\"#E5ECF6\",\"width\":0.5},\"pattern\":{\"fillmode\":\"overlay\",\"size\":10,\"solidity\":0.2}},\"type\":\"barpolar\"}],\"carpet\":[{\"aaxis\":{\"endlinecolor\":\"#2a3f5f\",\"gridcolor\":\"white\",\"linecolor\":\"white\",\"minorgridcolor\":\"white\",\"startlinecolor\":\"#2a3f5f\"},\"baxis\":{\"endlinecolor\":\"#2a3f5f\",\"gridcolor\":\"white\",\"linecolor\":\"white\",\"minorgridcolor\":\"white\",\"startlinecolor\":\"#2a3f5f\"},\"type\":\"carpet\"}],\"choropleth\":[{\"colorbar\":{\"outlinewidth\":0,\"ticks\":\"\"},\"type\":\"choropleth\"}],\"contour\":[{\"colorbar\":{\"outlinewidth\":0,\"ticks\":\"\"},\"colorscale\":[[0.0,\"#0d0887\"],[0.1111111111111111,\"#46039f\"],[0.2222222222222222,\"#7201a8\"],[0.3333333333333333,\"#9c179e\"],[0.4444444444444444,\"#bd3786\"],[0.5555555555555556,\"#d8576b\"],[0.6666666666666666,\"#ed7953\"],[0.7777777777777778,\"#fb9f3a\"],[0.8888888888888888,\"#fdca26\"],[1.0,\"#f0f921\"]],\"type\":\"contour\"}],\"contourcarpet\":[{\"colorbar\":{\"outlinewidth\":0,\"ticks\":\"\"},\"type\":\"contourcarpet\"}],\"heatmap\":[{\"colorbar\":{\"outlinewidth\":0,\"ticks\":\"\"},\"colorscale\":[[0.0,\"#0d0887\"],[0.1111111111111111,\"#46039f\"],[0.2222222222222222,\"#7201a8\"],[0.3333333333333333,\"#9c179e\"],[0.4444444444444444,\"#bd3786\"],[0.5555555555555556,\"#d8576b\"],[0.6666666666666666,\"#ed7953\"],[0.7777777777777778,\"#fb9f3a\"],[0.8888888888888888,\"#fdca26\"],[1.0,\"#f0f921\"]],\"type\":\"heatmap\"}],\"heatmapgl\":[{\"colorbar\":{\"outlinewidth\":0,\"ticks\":\"\"},\"colorscale\":[[0.0,\"#0d0887\"],[0.1111111111111111,\"#46039f\"],[0.2222222222222222,\"#7201a8\"],[0.3333333333333333,\"#9c179e\"],[0.4444444444444444,\"#bd3786\"],[0.5555555555555556,\"#d8576b\"],[0.6666666666666666,\"#ed7953\"],[0.7777777777777778,\"#fb9f3a\"],[0.8888888888888888,\"#fdca26\"],[1.0,\"#f0f921\"]],\"type\":\"heatmapgl\"}],\"histogram\":[{\"marker\":{\"pattern\":{\"fillmode\":\"overlay\",\"size\":10,\"solidity\":0.2}},\"type\":\"histogram\"}],\"histogram2d\":[{\"colorbar\":{\"outlinewidth\":0,\"ticks\":\"\"},\"colorscale\":[[0.0,\"#0d0887\"],[0.1111111111111111,\"#46039f\"],[0.2222222222222222,\"#7201a8\"],[0.3333333333333333,\"#9c179e\"],[0.4444444444444444,\"#bd3786\"],[0.5555555555555556,\"#d8576b\"],[0.6666666666666666,\"#ed7953\"],[0.7777777777777778,\"#fb9f3a\"],[0.8888888888888888,\"#fdca26\"],[1.0,\"#f0f921\"]],\"type\":\"histogram2d\"}],\"histogram2dcontour\":[{\"colorbar\":{\"outlinewidth\":0,\"ticks\":\"\"},\"colorscale\":[[0.0,\"#0d0887\"],[0.1111111111111111,\"#46039f\"],[0.2222222222222222,\"#7201a8\"],[0.3333333333333333,\"#9c179e\"],[0.4444444444444444,\"#bd3786\"],[0.5555555555555556,\"#d8576b\"],[0.6666666666666666,\"#ed7953\"],[0.7777777777777778,\"#fb9f3a\"],[0.8888888888888888,\"#fdca26\"],[1.0,\"#f0f921\"]],\"type\":\"histogram2dcontour\"}],\"mesh3d\":[{\"colorbar\":{\"outlinewidth\":0,\"ticks\":\"\"},\"type\":\"mesh3d\"}],\"parcoords\":[{\"line\":{\"colorbar\":{\"outlinewidth\":0,\"ticks\":\"\"}},\"type\":\"parcoords\"}],\"pie\":[{\"automargin\":true,\"type\":\"pie\"}],\"scatter\":[{\"marker\":{\"colorbar\":{\"outlinewidth\":0,\"ticks\":\"\"}},\"type\":\"scatter\"}],\"scatter3d\":[{\"line\":{\"colorbar\":{\"outlinewidth\":0,\"ticks\":\"\"}},\"marker\":{\"colorbar\":{\"outlinewidth\":0,\"ticks\":\"\"}},\"type\":\"scatter3d\"}],\"scattercarpet\":[{\"marker\":{\"colorbar\":{\"outlinewidth\":0,\"ticks\":\"\"}},\"type\":\"scattercarpet\"}],\"scattergeo\":[{\"marker\":{\"colorbar\":{\"outlinewidth\":0,\"ticks\":\"\"}},\"type\":\"scattergeo\"}],\"scattergl\":[{\"marker\":{\"colorbar\":{\"outlinewidth\":0,\"ticks\":\"\"}},\"type\":\"scattergl\"}],\"scattermapbox\":[{\"marker\":{\"colorbar\":{\"outlinewidth\":0,\"ticks\":\"\"}},\"type\":\"scattermapbox\"}],\"scatterpolar\":[{\"marker\":{\"colorbar\":{\"outlinewidth\":0,\"ticks\":\"\"}},\"type\":\"scatterpolar\"}],\"scatterpolargl\":[{\"marker\":{\"colorbar\":{\"outlinewidth\":0,\"ticks\":\"\"}},\"type\":\"scatterpolargl\"}],\"scatterternary\":[{\"marker\":{\"colorbar\":{\"outlinewidth\":0,\"ticks\":\"\"}},\"type\":\"scatterternary\"}],\"surface\":[{\"colorbar\":{\"outlinewidth\":0,\"ticks\":\"\"},\"colorscale\":[[0.0,\"#0d0887\"],[0.1111111111111111,\"#46039f\"],[0.2222222222222222,\"#7201a8\"],[0.3333333333333333,\"#9c179e\"],[0.4444444444444444,\"#bd3786\"],[0.5555555555555556,\"#d8576b\"],[0.6666666666666666,\"#ed7953\"],[0.7777777777777778,\"#fb9f3a\"],[0.8888888888888888,\"#fdca26\"],[1.0,\"#f0f921\"]],\"type\":\"surface\"}],\"table\":[{\"cells\":{\"fill\":{\"color\":\"#EBF0F8\"},\"line\":{\"color\":\"white\"}},\"header\":{\"fill\":{\"color\":\"#C8D4E3\"},\"line\":{\"color\":\"white\"}},\"type\":\"table\"}]},\"layout\":{\"annotationdefaults\":{\"arrowcolor\":\"#2a3f5f\",\"arrowhead\":0,\"arrowwidth\":1},\"autotypenumbers\":\"strict\",\"coloraxis\":{\"colorbar\":{\"outlinewidth\":0,\"ticks\":\"\"}},\"colorscale\":{\"diverging\":[[0,\"#8e0152\"],[0.1,\"#c51b7d\"],[0.2,\"#de77ae\"],[0.3,\"#f1b6da\"],[0.4,\"#fde0ef\"],[0.5,\"#f7f7f7\"],[0.6,\"#e6f5d0\"],[0.7,\"#b8e186\"],[0.8,\"#7fbc41\"],[0.9,\"#4d9221\"],[1,\"#276419\"]],\"sequential\":[[0.0,\"#0d0887\"],[0.1111111111111111,\"#46039f\"],[0.2222222222222222,\"#7201a8\"],[0.3333333333333333,\"#9c179e\"],[0.4444444444444444,\"#bd3786\"],[0.5555555555555556,\"#d8576b\"],[0.6666666666666666,\"#ed7953\"],[0.7777777777777778,\"#fb9f3a\"],[0.8888888888888888,\"#fdca26\"],[1.0,\"#f0f921\"]],\"sequentialminus\":[[0.0,\"#0d0887\"],[0.1111111111111111,\"#46039f\"],[0.2222222222222222,\"#7201a8\"],[0.3333333333333333,\"#9c179e\"],[0.4444444444444444,\"#bd3786\"],[0.5555555555555556,\"#d8576b\"],[0.6666666666666666,\"#ed7953\"],[0.7777777777777778,\"#fb9f3a\"],[0.8888888888888888,\"#fdca26\"],[1.0,\"#f0f921\"]]},\"colorway\":[\"#636efa\",\"#EF553B\",\"#00cc96\",\"#ab63fa\",\"#FFA15A\",\"#19d3f3\",\"#FF6692\",\"#B6E880\",\"#FF97FF\",\"#FECB52\"],\"font\":{\"color\":\"#2a3f5f\"},\"geo\":{\"bgcolor\":\"white\",\"lakecolor\":\"white\",\"landcolor\":\"#E5ECF6\",\"showlakes\":true,\"showland\":true,\"subunitcolor\":\"white\"},\"hoverlabel\":{\"align\":\"left\"},\"hovermode\":\"closest\",\"mapbox\":{\"style\":\"light\"},\"paper_bgcolor\":\"white\",\"plot_bgcolor\":\"#E5ECF6\",\"polar\":{\"angularaxis\":{\"gridcolor\":\"white\",\"linecolor\":\"white\",\"ticks\":\"\"},\"bgcolor\":\"#E5ECF6\",\"radialaxis\":{\"gridcolor\":\"white\",\"linecolor\":\"white\",\"ticks\":\"\"}},\"scene\":{\"xaxis\":{\"backgroundcolor\":\"#E5ECF6\",\"gridcolor\":\"white\",\"gridwidth\":2,\"linecolor\":\"white\",\"showbackground\":true,\"ticks\":\"\",\"zerolinecolor\":\"white\"},\"yaxis\":{\"backgroundcolor\":\"#E5ECF6\",\"gridcolor\":\"white\",\"gridwidth\":2,\"linecolor\":\"white\",\"showbackground\":true,\"ticks\":\"\",\"zerolinecolor\":\"white\"},\"zaxis\":{\"backgroundcolor\":\"#E5ECF6\",\"gridcolor\":\"white\",\"gridwidth\":2,\"linecolor\":\"white\",\"showbackground\":true,\"ticks\":\"\",\"zerolinecolor\":\"white\"}},\"shapedefaults\":{\"line\":{\"color\":\"#2a3f5f\"}},\"ternary\":{\"aaxis\":{\"gridcolor\":\"white\",\"linecolor\":\"white\",\"ticks\":\"\"},\"baxis\":{\"gridcolor\":\"white\",\"linecolor\":\"white\",\"ticks\":\"\"},\"bgcolor\":\"#E5ECF6\",\"caxis\":{\"gridcolor\":\"white\",\"linecolor\":\"white\",\"ticks\":\"\"}},\"title\":{\"x\":0.05},\"xaxis\":{\"automargin\":true,\"gridcolor\":\"white\",\"linecolor\":\"white\",\"ticks\":\"\",\"title\":{\"standoff\":15},\"zerolinecolor\":\"white\",\"zerolinewidth\":2},\"yaxis\":{\"automargin\":true,\"gridcolor\":\"white\",\"linecolor\":\"white\",\"ticks\":\"\",\"title\":{\"standoff\":15},\"zerolinecolor\":\"white\",\"zerolinewidth\":2}}},\"title\":{\"text\":\"Energy forecast for 2050<br>Source: Department of Energy & Climate Change, Tom Counsell via <a href='https://bost.ocks.org/mike/sankey/'>Mike Bostock</a>\"},\"font\":{\"size\":10}},                        {\"responsive\": true}                    ).then(function(){\n",
       "                            \n",
       "var gd = document.getElementById('03bbb9cd-69ec-4e95-b736-502e24058bb4');\n",
       "var x = new MutationObserver(function (mutations, observer) {{\n",
       "        var display = window.getComputedStyle(gd).display;\n",
       "        if (!display || display === 'none') {{\n",
       "            console.log([gd, 'removed!']);\n",
       "            Plotly.purge(gd);\n",
       "            observer.disconnect();\n",
       "        }}\n",
       "}});\n",
       "\n",
       "// Listen for the removal of the full notebook cells\n",
       "var notebookContainer = gd.closest('#notebook-container');\n",
       "if (notebookContainer) {{\n",
       "    x.observe(notebookContainer, {childList: true});\n",
       "}}\n",
       "\n",
       "// Listen for the clearing of the current output cell\n",
       "var outputEl = gd.closest('.output');\n",
       "if (outputEl) {{\n",
       "    x.observe(outputEl, {childList: true});\n",
       "}}\n",
       "\n",
       "                        })                };                });            </script>        </div>"
      ]
     },
     "metadata": {},
     "output_type": "display_data"
    }
   ],
   "source": [
    "#!/usr/bin/env python3\n",
    "# -*- coding: utf-8 -*-\n",
    "\"\"\"\n",
    "Created on Tue Nov 16 16:02:07 2021\n",
    "\n",
    "@author: tiagofranco\n",
    "\"\"\"\n",
    "\"\"\"\n",
    "Sankey Diagram in streamlit with \n",
    "\"\"\"\n",
    "import plotly.graph_objects as go\n",
    "import streamlit as st\n",
    "import pandas as pd\n",
    "import numpy as np\n",
    "from sodapy import Socrata # Was not in the installation list for this course!\n",
    "                           # Use \"pip install sodapy\" or \"conda install sodapy\" to install\n",
    "#from plots.geo_plot_vaccines import plot_abundance_for_list_of_postal_codes\n",
    "\n",
    "\"variables\"\n",
    "scraping_depth = 2000\n",
    "\n",
    "\n",
    "\n",
    "\"download data\"\n",
    "# Unauthenticated client only works with public data sets. Note 'None'\n",
    "# in place of application token, and no username or password:\n",
    "client = Socrata(\"analisi.transparenciacatalunya.cat\", None)\n",
    "#print(\"Format of dataset: \", type(client))\n",
    "# Actuacions dels Bombers de la Generalitat - Dataset Identifier: g2ay-3vnj\n",
    "all_info = client.get(\"g2ay-3vnj\", limit=scraping_depth)\n",
    "\n",
    "# Convert to pandas DataFrame\n",
    "all_info_df = pd.DataFrame.from_records(all_info)\n",
    "\n",
    "\n",
    "# set starting nodes\n",
    "# set ending nodes\n",
    "# set colors for each node\n",
    "# set links with counts\n",
    "# set color of links based on starting node\n",
    "\n",
    "#or\n",
    "\"\"\"\n",
    "set nodes\n",
    "    name\n",
    "    color\n",
    "\"\"\"\n",
    "nom_regio_df = pd.DataFrame.from_dict(all_info_df['nom_regio'].unique())\n",
    "tga_nom_grupo_df = pd.DataFrame.from_dict(all_info_df['tga_nom_grupo'].unique())\n",
    "tga_nom_alarma_df = pd.DataFrame.from_dict(all_info_df['tal_nom_alarma'].unique())\n",
    "\n",
    "nodes_df = pd.concat([nom_regio_df,tga_nom_grupo_df,tga_nom_alarma_df], ignore_index=True)\n",
    "nodes_df = nodes_df.rename(columns={0 : 'label'})\n",
    "\n",
    "\n",
    "def convertTuple(tup):\n",
    "    str = ''.join(tup)\n",
    "    return str\n",
    "\n",
    "\n",
    "colors = []\n",
    "for i in range(len(nodes_df)):\n",
    "    colors += ['rgba('+str(np.random.randint(256))+','+str(np.random.randint(256))+','+str(np.random.randint(256))+',1)']\n",
    "    \n",
    "nodes_df.insert(1, 'color', colors)\n",
    "\n",
    "\n",
    "\n",
    "             \n",
    "\"\"\"\n",
    "set link\n",
    "    source\n",
    "    target\n",
    "    value\n",
    "    label\n",
    "    color (same as source node color)\n",
    "\"\"\"\n",
    "links_df = pd.DataFrame(\n",
    "    {'Source':['Subdirecció General Operativa'],\n",
    "     'Target':['Accident i/o incendi en vaixell (en port o alta mar)'],\n",
    "     'Value': ['1000'],\n",
    "     'Label': ['YOOOOO'],\n",
    "     'Color': ['rgba(92,20,85,1)']})\n",
    "\n",
    "\n",
    "\n",
    "\n",
    "fig = go.Figure(data=[go.Sankey(\n",
    "    valueformat = \".0f\",\n",
    "    valuesuffix = \"TWh\",\n",
    "    # Define nodes\n",
    "    node = dict(\n",
    "      pad = 15,\n",
    "      thickness = 15,\n",
    "      line = dict(color = \"black\", width = 0.5),\n",
    "      label =  nodes_df['label'].dropna(axis=0, how='any'),\n",
    "      color =  nodes_df['color'].dropna(axis=0, how='any')\n",
    "    ),\n",
    "    # Add links\n",
    "    link = dict(\n",
    "      source =  links_df['Source'].dropna(axis=0, how='any'),\n",
    "      target =  links_df['Target'].dropna(axis=0, how='any'),\n",
    "      value =  links_df['Value'].dropna(axis=0, how='any'),\n",
    "      label =  links_df['Label'].dropna(axis=0, how='any'),\n",
    "      color =  links_df['Color'].dropna(axis=0, how='any')\n",
    "))])\n",
    "\n",
    "fig.update_layout(title_text=\"Energy forecast for 2050<br>Source: Department of Energy & Climate Change, Tom Counsell via <a href='https://bost.ocks.org/mike/sankey/'>Mike Bostock</a>\",\n",
    "                  font_size=10)\n",
    "fig.show()\n"
   ]
  },
  {
   "cell_type": "code",
   "execution_count": 7,
   "metadata": {},
   "outputs": [
    {
     "data": {
      "text/html": [
       "        <script type=\"text/javascript\">\n",
       "        window.PlotlyConfig = {MathJaxConfig: 'local'};\n",
       "        if (window.MathJax) {MathJax.Hub.Config({SVG: {font: \"STIX-Web\"}});}\n",
       "        if (typeof require !== 'undefined') {\n",
       "        require.undef(\"plotly\");\n",
       "        requirejs.config({\n",
       "            paths: {\n",
       "                'plotly': ['https://cdn.plot.ly/plotly-2.6.3.min']\n",
       "            }\n",
       "        });\n",
       "        require(['plotly'], function(Plotly) {\n",
       "            window._Plotly = Plotly;\n",
       "        });\n",
       "        }\n",
       "        </script>\n",
       "        "
      ]
     },
     "metadata": {},
     "output_type": "display_data"
    },
    {
     "data": {
      "application/vnd.plotly.v1+json": {
       "config": {
        "linkText": "Export to plot.ly",
        "plotlyServerURL": "https://plot.ly",
        "showLink": false
       },
       "data": [
        {
         "domain": {
          "x": [
           0,
           1
          ],
          "y": [
           0,
           1
          ]
         },
         "link": {
          "color": [
           "rgba(127, 194, 65, 0.2)",
           "rgba(127, 194, 65, 0.2)",
           "rgba(211, 211, 211, 0.5)",
           "rgba(211, 211, 211, 0.5)",
           "rgba(211, 211, 211, 0.5)",
           "rgba(253, 227, 212, 1)",
           "rgba(253, 227, 212, 1)"
          ],
          "source": [
           0,
           0,
           1,
           1,
           1,
           2,
           2
          ],
          "target": [
           3,
           4,
           3,
           4,
           5,
           5,
           3
          ],
          "value": [
           1,
           1,
           1,
           1,
           1,
           1,
           1
          ]
         },
         "node": {
          "color": [
           "#4994CE",
           "#8A5988",
           "#449E9E",
           "#7FC241",
           "#D3D3D3",
           "#4994CE"
          ],
          "label": [
           "AKJ Education",
           "Amazon",
           "Flipkart",
           "Books",
           "Computers & tablets",
           "Other"
          ],
          "line": {
           "color": "black",
           "width": 0
          },
          "pad": 10
         },
         "orientation": "h",
         "type": "sankey",
         "valueformat": ".0f"
        }
       ],
       "layout": {
        "font": {
         "size": 10
        },
        "height": 772,
        "title": "Draw Sankey Diagram from dataframes"
       }
      },
      "text/html": [
       "<div>                            <div id=\"a2dd76ad-152f-41e1-8d00-2766dfca248a\" class=\"plotly-graph-div\" style=\"height:772px; width:100%;\"></div>            <script type=\"text/javascript\">                require([\"plotly\"], function(Plotly) {                    window.PLOTLYENV=window.PLOTLYENV || {};                                    if (document.getElementById(\"a2dd76ad-152f-41e1-8d00-2766dfca248a\")) {                    Plotly.newPlot(                        \"a2dd76ad-152f-41e1-8d00-2766dfca248a\",                        [{\"type\":\"sankey\",\"domain\":{\"x\":[0,1],\"y\":[0,1]},\"orientation\":\"h\",\"valueformat\":\".0f\",\"node\":{\"pad\":10,\"line\":{\"color\":\"black\",\"width\":0},\"label\":[\"AKJ Education\",\"Amazon\",\"Flipkart\",\"Books\",\"Computers & tablets\",\"Other\"],\"color\":[\"#4994CE\",\"#8A5988\",\"#449E9E\",\"#7FC241\",\"#D3D3D3\",\"#4994CE\"]},\"link\":{\"source\":[0,0,1,1,1,2,2],\"target\":[3,4,3,4,5,5,3],\"value\":[1,1,1,1,1,1,1],\"color\":[\"rgba(127, 194, 65, 0.2)\",\"rgba(127, 194, 65, 0.2)\",\"rgba(211, 211, 211, 0.5)\",\"rgba(211, 211, 211, 0.5)\",\"rgba(211, 211, 211, 0.5)\",\"rgba(253, 227, 212, 1)\",\"rgba(253, 227, 212, 1)\"]}}],                        {\"title\":\"Draw Sankey Diagram from dataframes\",\"height\":772,\"font\":{\"size\":10}},                        {\"responsive\": true}                    ).then(function(){\n",
       "                            \n",
       "var gd = document.getElementById('a2dd76ad-152f-41e1-8d00-2766dfca248a');\n",
       "var x = new MutationObserver(function (mutations, observer) {{\n",
       "        var display = window.getComputedStyle(gd).display;\n",
       "        if (!display || display === 'none') {{\n",
       "            console.log([gd, 'removed!']);\n",
       "            Plotly.purge(gd);\n",
       "            observer.disconnect();\n",
       "        }}\n",
       "}});\n",
       "\n",
       "// Listen for the removal of the full notebook cells\n",
       "var notebookContainer = gd.closest('#notebook-container');\n",
       "if (notebookContainer) {{\n",
       "    x.observe(notebookContainer, {childList: true});\n",
       "}}\n",
       "\n",
       "// Listen for the clearing of the current output cell\n",
       "var outputEl = gd.closest('.output');\n",
       "if (outputEl) {{\n",
       "    x.observe(outputEl, {childList: true});\n",
       "}}\n",
       "\n",
       "                        })                };                });            </script>        </div>"
      ]
     },
     "metadata": {},
     "output_type": "display_data"
    }
   ],
   "source": [
    "# imports\n",
    "import pandas as pd\n",
    "import numpy as np\n",
    "import plotly.graph_objs as go\n",
    "from plotly.offline import download_plotlyjs, init_notebook_mode, plot, iplot\n",
    "init_notebook_mode(connected=True)\n",
    "\n",
    "# Nodes & links\n",
    "nodes = [['ID', 'Label', 'Color'],\n",
    "        [0,'AKJ Education','#4994CE'],\n",
    "        [1,'Amazon','#8A5988'],\n",
    "        [2,'Flipkart','#449E9E'],\n",
    "        [3,'Books','#7FC241'],\n",
    "        [4,'Computers & tablets','#D3D3D3'],\n",
    "        [5,'Other','#4994CE'],]\n",
    "\n",
    "# links with your data\n",
    "links = [['Source','Target','Value','Link Color'],\n",
    "\n",
    "        # AKJ\n",
    "        [0,3,1,'rgba(127, 194, 65, 0.2)'],\n",
    "        [0,4,1,'rgba(127, 194, 65, 0.2)'],\n",
    "\n",
    "        # Amazon\n",
    "        [1,3,1,'rgba(211, 211, 211, 0.5)'],\n",
    "        [1,4,1,'rgba(211, 211, 211, 0.5)'],\n",
    "        [1,5,1,'rgba(211, 211, 211, 0.5)'],\n",
    "\n",
    "        # Flipkart\n",
    "        [2,5,1,'rgba(253, 227, 212, 1)'],\n",
    "        [2,3,1,'rgba(253, 227, 212, 1)'],]\n",
    "\n",
    "# links with some data for illustrative purposes ################\n",
    "#links = [\n",
    "#    ['Source','Target','Value','Link Color'],\n",
    "#    \n",
    "#    # AKJ\n",
    "#    [0,3,846888,'rgba(127, 194, 65, 0.2)'],\n",
    "#    [0,4,1045,'rgba(127, 194, 65, 0.2)'],\n",
    "#    \n",
    "#    # Amazon\n",
    "#    [1,3,1294423,'rgba(211, 211, 211, 0.5)'],\n",
    "#    [1,4,42165,'rgba(211, 211, 211, 0.5)'],\n",
    "#    [1,5,415,'rgba(211, 211, 211, 0.5)'],\n",
    "#    \n",
    "#    # Flipkart\n",
    "#    [2,5,1,'rgba(253, 227, 212, 1)'],]\n",
    "#################################################################\n",
    "\n",
    "\n",
    "# Retrieve headers and build dataframes\n",
    "nodes_headers = nodes.pop(0)\n",
    "links_headers = links.pop(0)\n",
    "df_nodes = pd.DataFrame(nodes, columns = nodes_headers)\n",
    "df_links = pd.DataFrame(links, columns = links_headers)\n",
    "\n",
    "# Sankey plot setup\n",
    "data_trace = dict(\n",
    "    type='sankey',\n",
    "    domain = dict(\n",
    "      x =  [0,1],\n",
    "      y =  [0,1]\n",
    "    ),\n",
    "    orientation = \"h\",\n",
    "    valueformat = \".0f\",\n",
    "    node = dict(\n",
    "      pad = 10,\n",
    "    # thickness = 30,\n",
    "      line = dict(\n",
    "        color = \"black\",\n",
    "        width = 0\n",
    "      ),\n",
    "      label =  df_nodes['Label'].dropna(axis=0, how='any'),\n",
    "      color = df_nodes['Color']\n",
    "    ),\n",
    "    link = dict(\n",
    "      source = df_links['Source'].dropna(axis=0, how='any'),\n",
    "      target = df_links['Target'].dropna(axis=0, how='any'),\n",
    "      value = df_links['Value'].dropna(axis=0, how='any'),\n",
    "      color = df_links['Link Color'].dropna(axis=0, how='any'),\n",
    "  )\n",
    ")\n",
    "\n",
    "layout = dict(\n",
    "        title = \"Draw Sankey Diagram from dataframes\",\n",
    "    height = 772,\n",
    "    font = dict(\n",
    "      size = 10),)\n",
    "\n",
    "fig = dict(data=[data_trace], layout=layout)\n",
    "iplot(fig, validate=False)"
   ]
  },
  {
   "cell_type": "code",
   "execution_count": 13,
   "metadata": {},
   "outputs": [
    {
     "data": {
      "text/html": [
       "        <script type=\"text/javascript\">\n",
       "        window.PlotlyConfig = {MathJaxConfig: 'local'};\n",
       "        if (window.MathJax) {MathJax.Hub.Config({SVG: {font: \"STIX-Web\"}});}\n",
       "        if (typeof require !== 'undefined') {\n",
       "        require.undef(\"plotly\");\n",
       "        requirejs.config({\n",
       "            paths: {\n",
       "                'plotly': ['https://cdn.plot.ly/plotly-2.6.3.min']\n",
       "            }\n",
       "        });\n",
       "        require(['plotly'], function(Plotly) {\n",
       "            window._Plotly = Plotly;\n",
       "        });\n",
       "        }\n",
       "        </script>\n",
       "        "
      ]
     },
     "metadata": {},
     "output_type": "display_data"
    },
    {
     "name": "stderr",
     "output_type": "stream",
     "text": [
      "2021-11-17 03:40:29.533 WARNING root: Requests made without an app_token will be subject to strict throttling limits.\n"
     ]
    },
    {
     "data": {
      "application/vnd.plotly.v1+json": {
       "config": {
        "linkText": "Export to plot.ly",
        "plotlyServerURL": "https://plot.ly",
        "showLink": false
       },
       "data": [
        {
         "domain": {
          "x": [
           0,
           1
          ],
          "y": [
           0,
           1
          ]
         },
         "link": {
          "color": [
           "rgba(92,20,85,1)"
          ],
          "source": [
           "Subdirecció General Operativa"
          ],
          "target": [
           "Revisió d'equipaments de seguretat"
          ],
          "value": [
           "1000"
          ]
         },
         "node": {
          "color": [
           "rgba(239,164,47,1)",
           "rgba(153,42,239,1)",
           "rgba(56,56,67,1)",
           "rgba(0,78,18,1)",
           "rgba(28,133,195,1)",
           "rgba(72,72,87,1)",
           "rgba(90,179,17,1)",
           "rgba(241,189,135,1)",
           "rgba(254,201,197,1)",
           "rgba(4,74,14,1)",
           "rgba(9,123,7,1)",
           "rgba(215,19,81,1)",
           "rgba(103,141,72,1)",
           "rgba(178,248,255,1)",
           "rgba(8,112,121,1)",
           "rgba(90,179,219,1)",
           "rgba(182,218,197,1)",
           "rgba(184,149,87,1)",
           "rgba(79,222,210,1)",
           "rgba(34,80,168,1)",
           "rgba(231,233,159,1)",
           "rgba(60,215,135,1)",
           "rgba(156,141,2,1)",
           "rgba(97,255,20,1)",
           "rgba(29,110,83,1)",
           "rgba(188,70,73,1)",
           "rgba(222,113,43,1)",
           "rgba(105,16,196,1)",
           "rgba(58,117,207,1)",
           "rgba(33,129,194,1)",
           "rgba(225,71,161,1)",
           "rgba(195,118,213,1)",
           "rgba(249,184,5,1)",
           "rgba(49,140,16,1)",
           "rgba(28,190,72,1)",
           "rgba(86,212,196,1)",
           "rgba(158,129,53,1)",
           "rgba(59,84,53,1)",
           "rgba(225,29,132,1)",
           "rgba(208,51,71,1)",
           "rgba(67,105,86,1)",
           "rgba(228,78,61,1)",
           "rgba(135,38,243,1)",
           "rgba(201,68,59,1)",
           "rgba(5,221,72,1)",
           "rgba(190,21,224,1)",
           "rgba(218,45,134,1)",
           "rgba(165,174,226,1)",
           "rgba(135,109,151,1)",
           "rgba(169,149,43,1)",
           "rgba(153,44,238,1)",
           "rgba(173,64,157,1)",
           "rgba(10,208,169,1)",
           "rgba(37,247,204,1)",
           "rgba(253,22,7,1)",
           "rgba(96,20,210,1)",
           "rgba(179,46,79,1)",
           "rgba(63,199,87,1)",
           "rgba(255,3,241,1)",
           "rgba(54,249,139,1)",
           "rgba(87,225,74,1)",
           "rgba(128,173,90,1)",
           "rgba(8,190,40,1)",
           "rgba(40,13,240,1)",
           "rgba(39,115,12,1)",
           "rgba(108,232,70,1)",
           "rgba(106,108,215,1)",
           "rgba(253,142,111,1)",
           "rgba(177,30,83,1)",
           "rgba(82,251,234,1)",
           "rgba(15,155,47,1)",
           "rgba(168,25,241,1)",
           "rgba(70,171,147,1)",
           "rgba(175,146,76,1)",
           "rgba(179,106,219,1)",
           "rgba(131,98,117,1)",
           "rgba(4,127,205,1)",
           "rgba(21,109,255,1)",
           "rgba(115,232,104,1)",
           "rgba(213,142,103,1)",
           "rgba(205,104,233,1)",
           "rgba(56,241,204,1)",
           "rgba(163,2,238,1)",
           "rgba(94,247,50,1)",
           "rgba(220,66,185,1)"
          ],
          "label": [
           "Subdirecció General Operativa",
           "Terres de l'Ebre",
           "Tarragona",
           "Metropolitana Sud",
           "Metropolitana Nord",
           "Girona",
           "Lleida",
           "U.F. Val d'Aran",
           "Centre",
           "pràctiques",
           "incendi urbà",
           "activitat no urgent",
           "salvaments",
           "mobilitat",
           "assistència tècnica",
           "dispositiu preventiu",
           "fuites perilloses",
           "suport tècnic",
           "incendi vegetació",
           "simulacres",
           "Pràctiques muntanya (escalada roca i gel, esquí, allaus)",
           "Incendi d'infraestructura elèctrica",
           "Ruta forestal i coneixement del territori",
           "Incendi de contenidor de residus",
           "Rescat urbà (precipitats, obertura de pisos risc persones)",
           "Salvament animals (excepte abelles)",
           "Vehicle a l'aire lliure (no accident)",
           "Incendi en edifici",
           "Neteja de calçada, sense accident de trànsit",
           "Rescat de muntanya",
           "Rescat persones en ascensor",
           "Accident trànsit amb ferits i/o atrapats",
           "Accident trànsit, sense atrapats ni incendi",
           "Varis (barraca, caseta d'obres,...)",
           "Inspecció d'hidrants",
           "Pràctiques d'assistència tècnica",
           "Altra assistència tècnica urgent",
           "Patologies edificació",
           "Accident i/o incendi ferroviari",
           "Recerca persones perdudes",
           "Atenció sanitària primària",
           "Pràctiques conducció",
           "Dispositiu activitats culturals, fires, correfocs, esportives",
           "Inundació d'aigua",
           "Pràctiques risc químic",
           "Abelles",
           "Dispositiu preventiu altres activitats",
           "Olor exterior",
           "Pràctiques forestals",
           "Altres suports tècnics",
           "Omplir i manteniment de basses i dipòsits",
           "Industrial o magatzem",
           "Incendi vegetació agrícola",
           "Incendi vegetació urbana",
           "Incendi vegetació forestal",
           "Persones amb comportament alterat",
           "Ruta urbana i coneixement del territori",
           "Crema controlada",
           "Estassades, aclarides,... en vegetació forestal",
           "Olor interior",
           "Pràctiques de mitjans aeris",
           "Visita element de risc",
           "Dispositiu risc d'incendi forestal",
           "Dispositiu risc muntanya",
           "Recerca i/o rescat en medi fluvial (rius, barrancs, llacs)",
           "Pràctiques d'incendi urbà",
           "Pràctiques submarinisme",
           "Fuita substància tòxica i/o reactiva",
           "Pràctiques orientació i cartografia",
           "Salvament de béns",
           "Risc biològic",
           "Pràctiques d'accident de trànsit (excarceració)",
           "Accident trànsit en túnel amb incendi o sense",
           "Rescat en coves i pous",
           "Fuita gas interior",
           "Simulacre incendi vegetació",
           "Fuita gas exterior",
           "Salvament en edifici esfondrat",
           "Inventari informació cartografia",
           "Accident i/o incendi aeronau (avió, parapent, ultralleuger,...)",
           "Recerca i/o rescat en medi marítim",
           "Accident i/o incendi en vaixell (en port o alta mar)",
           "Incendi en edifici aparcament (soterrat o no)",
           "Mitjans aeris, Servei Català Trànsit",
           "Revisió d'equipaments de seguretat"
          ],
          "line": {
           "color": "black",
           "width": 0
          },
          "pad": 10
         },
         "orientation": "h",
         "type": "sankey",
         "valueformat": ".0f"
        }
       ],
       "layout": {
        "font": {
         "size": 10
        },
        "height": 772,
        "title": "Draw Sankey Diagram from dataframes"
       }
      },
      "text/html": [
       "<div>                            <div id=\"e571820a-e6f6-4e03-9a0b-7de5b4cb6346\" class=\"plotly-graph-div\" style=\"height:772px; width:100%;\"></div>            <script type=\"text/javascript\">                require([\"plotly\"], function(Plotly) {                    window.PLOTLYENV=window.PLOTLYENV || {};                                    if (document.getElementById(\"e571820a-e6f6-4e03-9a0b-7de5b4cb6346\")) {                    Plotly.newPlot(                        \"e571820a-e6f6-4e03-9a0b-7de5b4cb6346\",                        [{\"type\":\"sankey\",\"domain\":{\"x\":[0,1],\"y\":[0,1]},\"orientation\":\"h\",\"valueformat\":\".0f\",\"node\":{\"pad\":10,\"line\":{\"color\":\"black\",\"width\":0},\"label\":[\"Subdirecci\\u00f3 General Operativa\",\"Terres de l'Ebre\",\"Tarragona\",\"Metropolitana Sud\",\"Metropolitana Nord\",\"Girona\",\"Lleida\",\"U.F. Val d'Aran\",\"Centre\",\"pr\\u00e0ctiques\",\"incendi urb\\u00e0\",\"activitat no urgent\",\"salvaments\",\"mobilitat\",\"assist\\u00e8ncia t\\u00e8cnica\",\"dispositiu preventiu\",\"fuites perilloses\",\"suport t\\u00e8cnic\",\"incendi vegetaci\\u00f3\",\"simulacres\",\"Pr\\u00e0ctiques muntanya (escalada roca i gel, esqu\\u00ed, allaus)\",\"Incendi d'infraestructura el\\u00e8ctrica\",\"Ruta forestal i coneixement del territori\",\"Incendi de contenidor de residus\",\"Rescat urb\\u00e0 (precipitats, obertura de pisos risc persones)\",\"Salvament animals (excepte abelles)\",\"Vehicle a l'aire lliure (no accident)\",\"Incendi en edifici\",\"Neteja de cal\\u00e7ada, sense accident de tr\\u00e0nsit\",\"Rescat de muntanya\",\"Rescat persones en ascensor\",\"Accident tr\\u00e0nsit amb ferits i/o atrapats\",\"Accident tr\\u00e0nsit, sense atrapats ni incendi\",\"Varis (barraca, caseta d'obres,...)\",\"Inspecci\\u00f3 d'hidrants\",\"Pr\\u00e0ctiques d'assist\\u00e8ncia t\\u00e8cnica\",\"Altra assist\\u00e8ncia t\\u00e8cnica urgent\",\"Patologies edificaci\\u00f3\",\"Accident i/o incendi ferroviari\",\"Recerca persones perdudes\",\"Atenci\\u00f3 sanit\\u00e0ria prim\\u00e0ria\",\"Pr\\u00e0ctiques conducci\\u00f3\",\"Dispositiu activitats culturals, fires, correfocs, esportives\",\"Inundaci\\u00f3 d'aigua\",\"Pr\\u00e0ctiques risc qu\\u00edmic\",\"Abelles\",\"Dispositiu preventiu altres activitats\",\"Olor exterior\",\"Pr\\u00e0ctiques forestals\",\"Altres suports t\\u00e8cnics\",\"Omplir i manteniment de basses i dip\\u00f2sits\",\"Industrial o magatzem\",\"Incendi vegetaci\\u00f3 agr\\u00edcola\",\"Incendi vegetaci\\u00f3 urbana\",\"Incendi vegetaci\\u00f3 forestal\",\"Persones amb comportament alterat\",\"Ruta urbana i coneixement del territori\",\"Crema controlada\",\"Estassades, aclarides,... en vegetaci\\u00f3 forestal\",\"Olor interior\",\"Pr\\u00e0ctiques de mitjans aeris\",\"Visita element de risc\",\"Dispositiu risc d'incendi forestal\",\"Dispositiu risc muntanya\",\"Recerca i/o rescat en medi fluvial (rius, barrancs, llacs)\",\"Pr\\u00e0ctiques d'incendi urb\\u00e0\",\"Pr\\u00e0ctiques submarinisme\",\"Fuita subst\\u00e0ncia t\\u00f2xica i/o reactiva\",\"Pr\\u00e0ctiques orientaci\\u00f3 i cartografia\",\"Salvament de b\\u00e9ns\",\"Risc biol\\u00f2gic\",\"Pr\\u00e0ctiques d'accident de tr\\u00e0nsit (excarceraci\\u00f3)\",\"Accident tr\\u00e0nsit en t\\u00fanel amb incendi o sense\",\"Rescat en coves i pous\",\"Fuita gas interior\",\"Simulacre incendi vegetaci\\u00f3\",\"Fuita gas exterior\",\"Salvament en edifici esfondrat\",\"Inventari informaci\\u00f3 cartografia\",\"Accident i/o incendi aeronau (avi\\u00f3, parapent, ultralleuger,...)\",\"Recerca i/o rescat en medi mar\\u00edtim\",\"Accident i/o incendi en vaixell (en port o alta mar)\",\"Incendi en edifici aparcament (soterrat o no)\",\"Mitjans aeris, Servei Catal\\u00e0 Tr\\u00e0nsit\",\"Revisi\\u00f3 d'equipaments de seguretat\"],\"color\":[\"rgba(239,164,47,1)\",\"rgba(153,42,239,1)\",\"rgba(56,56,67,1)\",\"rgba(0,78,18,1)\",\"rgba(28,133,195,1)\",\"rgba(72,72,87,1)\",\"rgba(90,179,17,1)\",\"rgba(241,189,135,1)\",\"rgba(254,201,197,1)\",\"rgba(4,74,14,1)\",\"rgba(9,123,7,1)\",\"rgba(215,19,81,1)\",\"rgba(103,141,72,1)\",\"rgba(178,248,255,1)\",\"rgba(8,112,121,1)\",\"rgba(90,179,219,1)\",\"rgba(182,218,197,1)\",\"rgba(184,149,87,1)\",\"rgba(79,222,210,1)\",\"rgba(34,80,168,1)\",\"rgba(231,233,159,1)\",\"rgba(60,215,135,1)\",\"rgba(156,141,2,1)\",\"rgba(97,255,20,1)\",\"rgba(29,110,83,1)\",\"rgba(188,70,73,1)\",\"rgba(222,113,43,1)\",\"rgba(105,16,196,1)\",\"rgba(58,117,207,1)\",\"rgba(33,129,194,1)\",\"rgba(225,71,161,1)\",\"rgba(195,118,213,1)\",\"rgba(249,184,5,1)\",\"rgba(49,140,16,1)\",\"rgba(28,190,72,1)\",\"rgba(86,212,196,1)\",\"rgba(158,129,53,1)\",\"rgba(59,84,53,1)\",\"rgba(225,29,132,1)\",\"rgba(208,51,71,1)\",\"rgba(67,105,86,1)\",\"rgba(228,78,61,1)\",\"rgba(135,38,243,1)\",\"rgba(201,68,59,1)\",\"rgba(5,221,72,1)\",\"rgba(190,21,224,1)\",\"rgba(218,45,134,1)\",\"rgba(165,174,226,1)\",\"rgba(135,109,151,1)\",\"rgba(169,149,43,1)\",\"rgba(153,44,238,1)\",\"rgba(173,64,157,1)\",\"rgba(10,208,169,1)\",\"rgba(37,247,204,1)\",\"rgba(253,22,7,1)\",\"rgba(96,20,210,1)\",\"rgba(179,46,79,1)\",\"rgba(63,199,87,1)\",\"rgba(255,3,241,1)\",\"rgba(54,249,139,1)\",\"rgba(87,225,74,1)\",\"rgba(128,173,90,1)\",\"rgba(8,190,40,1)\",\"rgba(40,13,240,1)\",\"rgba(39,115,12,1)\",\"rgba(108,232,70,1)\",\"rgba(106,108,215,1)\",\"rgba(253,142,111,1)\",\"rgba(177,30,83,1)\",\"rgba(82,251,234,1)\",\"rgba(15,155,47,1)\",\"rgba(168,25,241,1)\",\"rgba(70,171,147,1)\",\"rgba(175,146,76,1)\",\"rgba(179,106,219,1)\",\"rgba(131,98,117,1)\",\"rgba(4,127,205,1)\",\"rgba(21,109,255,1)\",\"rgba(115,232,104,1)\",\"rgba(213,142,103,1)\",\"rgba(205,104,233,1)\",\"rgba(56,241,204,1)\",\"rgba(163,2,238,1)\",\"rgba(94,247,50,1)\",\"rgba(220,66,185,1)\"]},\"link\":{\"source\":[\"Subdirecci\\u00f3 General Operativa\"],\"target\":[\"Revisi\\u00f3 d'equipaments de seguretat\"],\"value\":[\"1000\"],\"color\":[\"rgba(92,20,85,1)\"]}}],                        {\"title\":\"Draw Sankey Diagram from dataframes\",\"height\":772,\"font\":{\"size\":10}},                        {\"responsive\": true}                    ).then(function(){\n",
       "                            \n",
       "var gd = document.getElementById('e571820a-e6f6-4e03-9a0b-7de5b4cb6346');\n",
       "var x = new MutationObserver(function (mutations, observer) {{\n",
       "        var display = window.getComputedStyle(gd).display;\n",
       "        if (!display || display === 'none') {{\n",
       "            console.log([gd, 'removed!']);\n",
       "            Plotly.purge(gd);\n",
       "            observer.disconnect();\n",
       "        }}\n",
       "}});\n",
       "\n",
       "// Listen for the removal of the full notebook cells\n",
       "var notebookContainer = gd.closest('#notebook-container');\n",
       "if (notebookContainer) {{\n",
       "    x.observe(notebookContainer, {childList: true});\n",
       "}}\n",
       "\n",
       "// Listen for the clearing of the current output cell\n",
       "var outputEl = gd.closest('.output');\n",
       "if (outputEl) {{\n",
       "    x.observe(outputEl, {childList: true});\n",
       "}}\n",
       "\n",
       "                        })                };                });            </script>        </div>"
      ]
     },
     "metadata": {},
     "output_type": "display_data"
    },
    {
     "name": "stdout",
     "output_type": "stream",
     "text": [
      "                                                Label                Color\n",
      "0                       Subdirecció General Operativa   rgba(239,164,47,1)\n",
      "1                                    Terres de l'Ebre   rgba(153,42,239,1)\n",
      "2                                           Tarragona     rgba(56,56,67,1)\n",
      "3                                   Metropolitana Sud      rgba(0,78,18,1)\n",
      "4                                  Metropolitana Nord   rgba(28,133,195,1)\n",
      "..                                                ...                  ...\n",
      "80                 Recerca i/o rescat en medi marítim  rgba(205,104,233,1)\n",
      "81  Accident i/o incendi en vaixell (en port o alt...   rgba(56,241,204,1)\n",
      "82      Incendi en edifici aparcament (soterrat o no)    rgba(163,2,238,1)\n",
      "83               Mitjans aeris, Servei Català Trànsit    rgba(94,247,50,1)\n",
      "84                 Revisió d'equipaments de seguretat   rgba(220,66,185,1)\n",
      "\n",
      "[85 rows x 2 columns]\n",
      "                          Source                              Target Value  \\\n",
      "0  Subdirecció General Operativa  Revisió d'equipaments de seguretat  1000   \n",
      "\n",
      "    Label             Color  \n",
      "0  YOOOOO  rgba(92,20,85,1)  \n"
     ]
    }
   ],
   "source": [
    "import pandas as pd\n",
    "import numpy as np\n",
    "import plotly.graph_objs as go\n",
    "from plotly.offline import download_plotlyjs, init_notebook_mode, plot, iplot\n",
    "init_notebook_mode(connected=True)\n",
    "from sodapy import Socrata # Was not in the installation list for this course!\n",
    "                           # Use \"pip install sodapy\" or \"conda install sodapy\" to install\n",
    "#from plots.geo_plot_vaccines import plot_abundance_for_list_of_postal_codes\n",
    "\n",
    "\"variables\"\n",
    "scraping_depth = 2000\n",
    "\n",
    "\n",
    "\n",
    "\"download data\"\n",
    "# Unauthenticated client only works with public data sets. Note 'None'\n",
    "# in place of application token, and no username or password:\n",
    "client = Socrata(\"analisi.transparenciacatalunya.cat\", None)\n",
    "#print(\"Format of dataset: \", type(client))\n",
    "# Actuacions dels Bombers de la Generalitat - Dataset Identifier: g2ay-3vnj\n",
    "all_info = client.get(\"g2ay-3vnj\", limit=scraping_depth)\n",
    "\n",
    "# Convert to pandas DataFrame\n",
    "all_info_df = pd.DataFrame.from_records(all_info)\n",
    "\n",
    "\n",
    "# set starting nodes\n",
    "# set ending nodes\n",
    "# set colors for each node\n",
    "# set links with counts\n",
    "# set color of links based on starting node\n",
    "\n",
    "#or\n",
    "\"\"\"\n",
    "set nodes\n",
    "    name\n",
    "    color\n",
    "\"\"\"\n",
    "nom_regio_df = pd.DataFrame.from_dict(all_info_df['nom_regio'].unique())\n",
    "tga_nom_grupo_df = pd.DataFrame.from_dict(all_info_df['tga_nom_grupo'].unique())\n",
    "tga_nom_alarma_df = pd.DataFrame.from_dict(all_info_df['tal_nom_alarma'].unique())\n",
    "\n",
    "nodes_df = pd.concat([nom_regio_df,tga_nom_grupo_df,tga_nom_alarma_df], ignore_index=True)\n",
    "nodes_df = nodes_df.rename(columns={0 : 'Label'})\n",
    "\n",
    "colors = []\n",
    "for i in range(len(nodes_df)):\n",
    "    colors += ['rgba('+str(np.random.randint(256))+','+str(np.random.randint(256))+','+str(np.random.randint(256))+',1)']\n",
    "    \n",
    "nodes_df.insert(1, 'Color', colors)\n",
    "\n",
    "links_df = pd.DataFrame(\n",
    "    {'Source':['Subdirecció General Operativa'],\n",
    "     'Target':[\"Revisió d'equipaments de seguretat\"],\n",
    "     'Value': ['1000'],\n",
    "     'Label': ['YOOOOO'],\n",
    "     'Color': ['rgba(92,20,85,1)']})\n",
    "\n",
    "\n",
    "\n",
    "# Sankey plot setup\n",
    "data_trace = dict(\n",
    "    type='sankey',\n",
    "    domain = dict(\n",
    "      x =  [0,1],\n",
    "      y =  [0,1]\n",
    "    ),\n",
    "    orientation = \"h\",\n",
    "    valueformat = \".0f\",\n",
    "    node = dict(\n",
    "      pad = 10,\n",
    "    # thickness = 30,\n",
    "      line = dict(\n",
    "        color = \"black\",\n",
    "        width = 0\n",
    "      ),\n",
    "      label =  nodes_df['Label'].dropna(axis=0, how='any'),\n",
    "      color = nodes_df['Color']\n",
    "    ),\n",
    "    link = dict(\n",
    "      source = links_df['Source'].dropna(axis=0, how='any'),\n",
    "      target = links_df['Target'].dropna(axis=0, how='any'),\n",
    "      value = links_df['Value'].dropna(axis=0, how='any'),\n",
    "      color = links_df['Color'].dropna(axis=0, how='any'),\n",
    "  )\n",
    ")\n",
    "\n",
    "layout = dict(\n",
    "        title = \"Draw Sankey Diagram from dataframes\",\n",
    "    height = 772,\n",
    "    font = dict(\n",
    "      size = 10),)\n",
    "\n",
    "fig = dict(data=[data_trace], layout=layout)\n",
    "iplot(fig, validate=False)\n",
    "\n",
    "print(nodes_df)\n",
    "print(links_df)"
   ]
  },
  {
   "cell_type": "code",
   "execution_count": null,
   "metadata": {},
   "outputs": [],
   "source": []
  }
 ],
 "metadata": {
  "kernelspec": {
   "display_name": "Python 3",
   "language": "python",
   "name": "python3"
  },
  "language_info": {
   "codemirror_mode": {
    "name": "ipython",
    "version": 3
   },
   "file_extension": ".py",
   "mimetype": "text/x-python",
   "name": "python",
   "nbconvert_exporter": "python",
   "pygments_lexer": "ipython3",
   "version": "3.8.3"
  }
 },
 "nbformat": 4,
 "nbformat_minor": 4
}
